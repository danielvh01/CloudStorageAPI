{
 "cells": [
  {
   "cell_type": "code",
   "execution_count": null,
   "id": "25baa274-aff9-4774-a041-0f68b5ca9315",
   "metadata": {},
   "outputs": [
    {
     "name": "stdout",
     "output_type": "stream",
     "text": [
      "\u001b[93m\u001b[44mMaking HTTP connection to proxy.server:3128\u001b[39;49m\u001b(B\u001b[m\u001b[40m\u001b[H\u001b[2J\u001b[37m\u001b[40m\u001b[J\u001b(B\u001b[m\u001b[39;49m\u001b[37m\u001b[40m\u001b[39;49m\u001b[37m\u001b[40m\u001b[J\u001b[39;49m\u001b(B\u001b[m\u001b[22d\u001b[93m\u001b[44mGetting https://accounts.google.com/o/oauth2/auth?response_type=code&client_id=\u001b[K\u001b[39;49m\u001b(B\u001b[m\n",
      "\n",
      "\u001b[?1l\u001b>Please visit this URL to authorize this application: https://accounts.google.com/o/oauth2/auth?response_type=code&client_id=238227533746-ajrslplgquulquuimatuv097li1ndjuf.apps.googleusercontent.com&redirect_uri=http%3A%2F%2Flocalhost%3A35841%2F&scope=https%3A%2F%2Fwww.googleapis.com%2Fauth%2Fdrive.file&state=vAMPfsD4M29oLG15Augtxvf2xqaApE&access_type=offline\n"
     ]
    }
   ],
   "source": [
    "from google.oauth2.credentials import Credentials\n",
    "from google_auth_oauthlib.flow import InstalledAppFlow\n",
    "import os\n",
    "\n",
    "current_directory = os.getcwd()\n",
    "\n",
    "SCOPES = ['https://www.googleapis.com/auth/drive.file']\n",
    "file_path1 = os.path.join(current_directory, \"client_secret_238227533746-ajrslplgquulquuimatuv097li1ndjuf.apps.googleusercontent.com.json\")\n",
    "\n",
    "# Ruta al archivo que deseas subir\n",
    "file_path2 = \"/home/701bb790-cb21-4c50-8691-3b828b31bf14/Pruebas/502.txt\"\n",
    "\n",
    "# Cargar las credenciales desde el archivo JSON\n",
    "flow = InstalledAppFlow.from_client_secrets_file(file_path1, SCOPES)\n",
    "credentials = flow.run_local_server(port=0)\n",
    "\n",
    "# Crear un servicio de Google Drive\n",
    "drive_service = build('drive', 'v3', credentials=credentials)\n",
    "\n",
    "# Crear el cuerpo del archivo\n",
    "file_metadata = {'name': os.path.basename(file_path2)}\n",
    "media_body = MediaFileUpload(file_path2, resumable=True)\n",
    "\n",
    "# Subir el archivo\n",
    "file = drive_service.files().create(body=file_metadata, media_body=media_body, fields='id').execute()\n",
    "\n",
    "print(f'Archivo subido con el ID: {file.get(\"id\")}')\n",
    "\n"
   ]
  },
  {
   "cell_type": "code",
   "execution_count": null,
   "id": "e1f44098-c319-46ed-be98-a261b992825b",
   "metadata": {},
   "outputs": [],
   "source": []
  },
  {
   "cell_type": "code",
   "execution_count": null,
   "id": "e6629526-7ee2-4d58-9a1a-72a0dbca31a8",
   "metadata": {},
   "outputs": [],
   "source": []
  }
 ],
 "metadata": {
  "kernelspec": {
   "display_name": "anaconda-panel-2023.05-py310",
   "language": "python",
   "name": "conda-env-anaconda-panel-2023.05-py310-py"
  },
  "language_info": {
   "codemirror_mode": {
    "name": "ipython",
    "version": 3
   },
   "file_extension": ".py",
   "mimetype": "text/x-python",
   "name": "python",
   "nbconvert_exporter": "python",
   "pygments_lexer": "ipython3",
   "version": "3.11.5"
  }
 },
 "nbformat": 4,
 "nbformat_minor": 5
}
